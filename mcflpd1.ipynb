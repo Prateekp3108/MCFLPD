{
 "cells": [
  {
   "cell_type": "code",
   "execution_count": 28,
   "id": "c7095027",
   "metadata": {},
   "outputs": [
    {
     "name": "stdout",
     "output_type": "stream",
     "text": [
      "Requirement already satisfied: ortools in .\\mcflpd\\lib\\site-packages (9.12.4544)Note: you may need to restart the kernel to use updated packages.\n",
      "\n",
      "Requirement already satisfied: absl-py>=2.0.0 in .\\mcflpd\\lib\\site-packages (from ortools) (2.2.2)\n",
      "Requirement already satisfied: protobuf<5.30,>=5.29.3 in .\\mcflpd\\lib\\site-packages (from ortools) (5.29.4)\n",
      "Requirement already satisfied: numpy>=1.13.3 in .\\mcflpd\\lib\\site-packages (from ortools) (2.2.6)\n",
      "Requirement already satisfied: immutabledict>=3.0.0 in .\\mcflpd\\lib\\site-packages (from ortools) (4.2.1)\n",
      "Requirement already satisfied: pandas>=2.0.0 in .\\mcflpd\\lib\\site-packages (from ortools) (2.2.3)\n",
      "Requirement already satisfied: tzdata>=2022.7 in .\\mcflpd\\lib\\site-packages (from pandas>=2.0.0->ortools) (2025.2)\n",
      "Requirement already satisfied: pytz>=2020.1 in .\\mcflpd\\lib\\site-packages (from pandas>=2.0.0->ortools) (2025.2)\n",
      "Requirement already satisfied: python-dateutil>=2.8.2 in .\\mcflpd\\lib\\site-packages (from pandas>=2.0.0->ortools) (2.9.0.post0)\n",
      "Requirement already satisfied: six>=1.5 in .\\mcflpd\\lib\\site-packages (from python-dateutil>=2.8.2->pandas>=2.0.0->ortools) (1.17.0)\n"
     ]
    },
    {
     "name": "stderr",
     "output_type": "stream",
     "text": [
      "\n",
      "[notice] A new release of pip is available: 23.0.1 -> 25.1.1\n",
      "[notice] To update, run: python.exe -m pip install --upgrade pip\n"
     ]
    }
   ],
   "source": [
    "%pip install ortools"
   ]
  },
  {
   "cell_type": "code",
   "execution_count": 29,
   "id": "44c71c75",
   "metadata": {},
   "outputs": [],
   "source": [
    "\n",
    "import numpy as np\n",
    "import pandas as pd\n",
    "from ortools.linear_solver import pywraplp\n",
    "from math import radians, sin, cos, sqrt, atan2\n",
    "\n",
    "def haversine_distance(lat1, lon1, lat2, lon2):\n",
    "    # Calculate the great-circle distance between two points (in km)\n",
    "    R = 6371\n",
    "    dlat = radians(lat2 - lat1)\n",
    "    dlon = radians(lon2 - lon1)\n",
    "    a = sin(dlat/2)**2 + cos(radians(lat1)) * cos(radians(lat2)) * sin(dlon/2)**2\n",
    "    c = 2 * atan2(sqrt(a), sqrt(1 - a))\n",
    "    return R * c\n"
   ]
  },
  {
   "cell_type": "code",
   "execution_count": 30,
   "id": "ae72ae8a",
   "metadata": {},
   "outputs": [],
   "source": [
    "class MCFLPD_3SH:\n",
    "    def __init__(self, demand_points, facility_locations, p, num_drones):\n",
    "        self.demand_points = demand_points  # list of tuples (lat, lon, demand)\n",
    "        self.facility_locations = facility_locations  # list of tuples (lat, lon)\n",
    "        self.p = p  # number of facilities to open\n",
    "        self.num_drones = num_drones\n",
    "\n",
    "        # Calculate distance matrix between demand points and facilities\n",
    "        self.dist_matrix = np.zeros((len(demand_points), len(facility_locations)))\n",
    "        for i, (dlat, dlon, _) in enumerate(demand_points):\n",
    "            for j, (flat, flon) in enumerate(facility_locations):\n",
    "                self.dist_matrix[i, j] = haversine_distance(dlat, dlon, flat, flon)"
   ]
  },
  {
   "cell_type": "code",
   "execution_count": 31,
   "id": "dc1e82a5",
   "metadata": {},
   "outputs": [],
   "source": [
    "\n",
    "\n",
    "def solve_stage1(self):\n",
    "    solver = pywraplp.Solver.CreateSolver('SCIP')\n",
    "    if not solver:\n",
    "        print(\"Solver not available.\")\n",
    "        return None\n",
    "\n",
    "    m = len(self.demand_points)\n",
    "    n = len(self.facility_locations)\n",
    "\n",
    "    x = {}\n",
    "    y = {}\n",
    "\n",
    "    for i in range(m):\n",
    "        for j in range(n):\n",
    "            x[i, j] = solver.BoolVar(f'x_{i}_{j}')\n",
    "    for j in range(n):\n",
    "        y[j] = solver.BoolVar(f'y_{j}')\n",
    "\n",
    "    # Objective: minimize total weighted distance\n",
    "    solver.Minimize(solver.Sum(\n",
    "        self.demand_points[i][2] * self.dist_matrix[i, j] * x[i, j]\n",
    "        for i in range(m) for j in range(n)\n",
    "    ))\n",
    "\n",
    "    # Constraints\n",
    "    # Each demand point assigned to exactly one facility\n",
    "    for i in range(m):\n",
    "        solver.Add(solver.Sum(x[i, j] for j in range(n)) <= 1)\n",
    "\n",
    "    # Assign only to open facilities\n",
    "    for i in range(m):\n",
    "        for j in range(n):\n",
    "            solver.Add(x[i, j] <= y[j])\n",
    "\n",
    "    # Open exactly p facilities\n",
    "    solver.Add(solver.Sum(y[j] for j in range(n)) == self.p)\n",
    "\n",
    "    status = solver.Solve()\n",
    "\n",
    "    if status == pywraplp.Solver.OPTIMAL:\n",
    "        self.y_solution = [int(y[j].solution_value()) for j in range(n)]\n",
    "        self.x_solution = [[int(x[i, j].solution_value()) for j in range(n)] for i in range(m)]\n",
    "        print(\"Stage 1 solved: Facility locations decided.\")\n",
    "    else:\n",
    "        print(\"No optimal solution found for stage 1.\")\n",
    "        self.y_solution = None\n",
    "        self.x_solution = None\n",
    "\n",
    "MCFLPD_3SH.solve_stage1 = solve_stage1\n",
    "\n"
   ]
  },
  {
   "cell_type": "code",
   "execution_count": 32,
   "id": "2d4e1a01",
   "metadata": {},
   "outputs": [],
   "source": [
    "\n",
    "\n",
    "def solve_stage2(self):\n",
    "    if self.y_solution is None:\n",
    "        print(\"Stage 1 not solved yet.\")\n",
    "        return\n",
    "\n",
    "    open_facilities = [j for j, val in enumerate(self.y_solution) if val == 1]\n",
    "    # Simple heuristic: divide drones equally among open facilities\n",
    "    base = self.num_drones // len(open_facilities)\n",
    "    remainder = self.num_drones % len(open_facilities)\n",
    "\n",
    "    self.drones_per_facility = [0] * len(self.facility_locations)\n",
    "    for idx, f in enumerate(open_facilities):\n",
    "        self.drones_per_facility[f] = base + (1 if idx < remainder else 0)\n",
    "\n",
    "    print(f\"Stage 2 solved: Drone allocation to facilities = {self.drones_per_facility}\")\n",
    "\n",
    "MCFLPD_3SH.solve_stage2 = solve_stage2\n"
   ]
  },
  {
   "cell_type": "code",
   "execution_count": null,
   "id": "abc9fa30",
   "metadata": {},
   "outputs": [],
   "source": []
  },
  {
   "cell_type": "code",
   "execution_count": 33,
   "id": "de01f364",
   "metadata": {},
   "outputs": [],
   "source": [
    "\n",
    "\n",
    "def print_solution(self):\n",
    "    if self.y_solution is None or self.x_solution is None:\n",
    "        print(\"No solution available.\")\n",
    "        return\n",
    "\n",
    "    print(f\"Facilities opened at locations (indices): {[i for i, v in enumerate(self.y_solution) if v == 1]}\")\n",
    "    print(f\"Drones allocated per facility: {self.drones_per_facility}\")\n",
    "    print(\"Demand point assignments (demand_point_index: facility_index):\")\n",
    "    for i, assignments in enumerate(self.x_solution):\n",
    "        for j, assigned in enumerate(assignments):\n",
    "            if assigned == 1:\n",
    "                print(f\"  Demand point {i} -> Facility {j}\")\n",
    "\n",
    "MCFLPD_3SH.print_solution = print_solution\n"
   ]
  },
  {
   "cell_type": "code",
   "execution_count": 36,
   "id": "bc49c1ec",
   "metadata": {},
   "outputs": [
    {
     "ename": "TypeError",
     "evalue": "MCFLPD_3SH() takes no arguments",
     "output_type": "error",
     "traceback": [
      "\u001b[1;31m---------------------------------------------------------------------------\u001b[0m",
      "\u001b[1;31mTypeError\u001b[0m                                 Traceback (most recent call last)",
      "Cell \u001b[1;32mIn[36], line 18\u001b[0m\n\u001b[0;32m     15\u001b[0m p \u001b[38;5;241m=\u001b[39m \u001b[38;5;241m2\u001b[39m\n\u001b[0;32m     16\u001b[0m num_drones \u001b[38;5;241m=\u001b[39m \u001b[38;5;241m4\u001b[39m\n\u001b[1;32m---> 18\u001b[0m problem \u001b[38;5;241m=\u001b[39m \u001b[43mMCFLPD_3SH\u001b[49m\u001b[43m(\u001b[49m\u001b[43mdemand_points\u001b[49m\u001b[43m,\u001b[49m\u001b[43m \u001b[49m\u001b[43mfacility_locations\u001b[49m\u001b[43m,\u001b[49m\u001b[43m \u001b[49m\u001b[43mp\u001b[49m\u001b[43m,\u001b[49m\u001b[43m \u001b[49m\u001b[43mnum_drones\u001b[49m\u001b[43m)\u001b[49m\n\u001b[0;32m     19\u001b[0m problem\u001b[38;5;241m.\u001b[39msolve_stage1()\n\u001b[0;32m     20\u001b[0m problem\u001b[38;5;241m.\u001b[39msolve_stage2()\n",
      "\u001b[1;31mTypeError\u001b[0m: MCFLPD_3SH() takes no arguments"
     ]
    }
   ],
   "source": [
    "\n",
    "\n",
    "demand_points = [\n",
    "    (12.9716, 77.5946, 4.0),\n",
    "    (13.0827, 80.2707, 3.0),\n",
    "    (12.2958, 76.6394, 5.0),\n",
    "    (10.4232, 100.5678, 6.0)\n",
    "]\n",
    "\n",
    "facility_locations = [\n",
    "    (12.9611, 77.6387),\n",
    "    (13.0350, 77.5970),\n",
    "    (13.0010, 77.5700),\n",
    "    (12.9141, 74.8560)\n",
    "]\n",
    "\n",
    "p = 2\n",
    "num_drones = 4\n",
    "\n",
    "problem = MCFLPD_3SH(demand_points, facility_locations, p, num_drones)\n",
    "problem.solve_stage1()\n",
    "problem.solve_stage2()\n",
    "problem.print_solution()\n"
   ]
  }
 ],
 "metadata": {
  "kernelspec": {
   "display_name": "mcflpd",
   "language": "python",
   "name": "python3"
  },
  "language_info": {
   "codemirror_mode": {
    "name": "ipython",
    "version": 3
   },
   "file_extension": ".py",
   "mimetype": "text/x-python",
   "name": "python",
   "nbconvert_exporter": "python",
   "pygments_lexer": "ipython3",
   "version": "3.10.11"
  }
 },
 "nbformat": 4,
 "nbformat_minor": 5
}
